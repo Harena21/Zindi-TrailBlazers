{
  "cells": [
    {
      "cell_type": "code",
      "execution_count": 1,
      "id": "e5ec1e75",
      "metadata": {
        "id": "e5ec1e75"
      },
      "outputs": [],
      "source": [
        "## run this notebook only after running the EDA notebook"
      ]
    },
    {
      "cell_type": "code",
      "execution_count": 2,
      "id": "3557e34d",
      "metadata": {
        "colab": {
          "base_uri": "https://localhost:8080/"
        },
        "id": "3557e34d",
        "outputId": "d07625d7-80da-4bed-d493-f81a22ac709b"
      },
      "outputs": [
        {
          "output_type": "stream",
          "name": "stdout",
          "text": [
            "Collecting Catboost\n",
            "  Downloading catboost-1.0.5-cp37-none-manylinux1_x86_64.whl (76.6 MB)\n",
            "\u001b[K     |████████████████████████████████| 76.6 MB 52 kB/s \n",
            "\u001b[?25hRequirement already satisfied: matplotlib in /usr/local/lib/python3.7/dist-packages (from Catboost) (3.2.2)\n",
            "Requirement already satisfied: pandas>=0.24.0 in /usr/local/lib/python3.7/dist-packages (from Catboost) (1.3.5)\n",
            "Requirement already satisfied: plotly in /usr/local/lib/python3.7/dist-packages (from Catboost) (5.5.0)\n",
            "Requirement already satisfied: numpy>=1.16.0 in /usr/local/lib/python3.7/dist-packages (from Catboost) (1.21.6)\n",
            "Requirement already satisfied: scipy in /usr/local/lib/python3.7/dist-packages (from Catboost) (1.4.1)\n",
            "Requirement already satisfied: graphviz in /usr/local/lib/python3.7/dist-packages (from Catboost) (0.10.1)\n",
            "Requirement already satisfied: six in /usr/local/lib/python3.7/dist-packages (from Catboost) (1.15.0)\n",
            "Requirement already satisfied: pytz>=2017.3 in /usr/local/lib/python3.7/dist-packages (from pandas>=0.24.0->Catboost) (2022.1)\n",
            "Requirement already satisfied: python-dateutil>=2.7.3 in /usr/local/lib/python3.7/dist-packages (from pandas>=0.24.0->Catboost) (2.8.2)\n",
            "Requirement already satisfied: cycler>=0.10 in /usr/local/lib/python3.7/dist-packages (from matplotlib->Catboost) (0.11.0)\n",
            "Requirement already satisfied: pyparsing!=2.0.4,!=2.1.2,!=2.1.6,>=2.0.1 in /usr/local/lib/python3.7/dist-packages (from matplotlib->Catboost) (3.0.8)\n",
            "Requirement already satisfied: kiwisolver>=1.0.1 in /usr/local/lib/python3.7/dist-packages (from matplotlib->Catboost) (1.4.2)\n",
            "Requirement already satisfied: typing-extensions in /usr/local/lib/python3.7/dist-packages (from kiwisolver>=1.0.1->matplotlib->Catboost) (4.2.0)\n",
            "Requirement already satisfied: tenacity>=6.2.0 in /usr/local/lib/python3.7/dist-packages (from plotly->Catboost) (8.0.1)\n",
            "Installing collected packages: Catboost\n",
            "Successfully installed Catboost-1.0.5\n"
          ]
        }
      ],
      "source": [
        "!pip install Catboost "
      ]
    },
    {
      "cell_type": "code",
      "execution_count": 6,
      "id": "b087fc1b",
      "metadata": {
        "id": "b087fc1b"
      },
      "outputs": [],
      "source": [
        "#importing libraries\n",
        "import numpy as np\n",
        "import pandas as pd\n",
        "import matplotlib.pyplot as plt\n",
        "import seaborn as sns\n",
        "import copy\n",
        "import requests\n",
        "from io import StringIO "
      ]
    },
    {
      "cell_type": "code",
      "execution_count": 7,
      "id": "37ccb967",
      "metadata": {
        "id": "37ccb967"
      },
      "outputs": [],
      "source": [
        "pd.set_option('display.max_columns',63)"
      ]
    },
    {
      "cell_type": "code",
      "execution_count": 8,
      "id": "b6686a86",
      "metadata": {
        "id": "b6686a86"
      },
      "outputs": [],
      "source": [
        "# read the new formed data resulting from the EDA notebook,\n",
        "\n",
        "train = 'https://drive.google.com/file/d/1ERjbGJ3JRLjJhnizgAWPu48uxmGyGZQP/view?usp=sharing'\n",
        "test = 'https://drive.google.com/file/d/11gTjCB2mYaz2wyBK9vRIGU71gfjOR1H2/view?usp=sharing'\n",
        "\n",
        "# function to read a csv file shared via google which returns a dataframe\n",
        "\n",
        "def read_csv(url):\n",
        "    url = 'https://drive.google.com/uc?export=download&id=' + url.split('/')[-2]\n",
        "    csv_raw = requests.get(url).text\n",
        "    csv = StringIO(csv_raw)\n",
        "    df = pd.read_csv(csv)\n",
        "    return df\n",
        "\n",
        "# Creating training, testing dataframes\n",
        "train = read_csv(train)\n",
        "test = read_csv(test)"
      ]
    },
    {
      "cell_type": "markdown",
      "id": "1a570b13",
      "metadata": {
        "id": "1a570b13"
      },
      "source": [
        "## Preprocessing"
      ]
    },
    {
      "cell_type": "code",
      "execution_count": 9,
      "id": "bff7d23b",
      "metadata": {
        "id": "bff7d23b"
      },
      "outputs": [],
      "source": [
        "#creating function to strip the address(remove spaces)\n",
        "def striper(sentence):\n",
        "    return sentence.strip()\n",
        "\n",
        "#All provinces in RSA\n",
        "province = ['Eastern Cape', 'Free State', 'Gauteng', 'KwaZulu-Natal', 'Limpopo', 'Mpumalanga', 'Northern Cape', 'North West','Western Cape']\n",
        "\n",
        "#A function to find which province a ward belongs to\n",
        "def add_variables(sentence):\n",
        "    temp = sentence.split(',')\n",
        "    temp = map(striper,temp)\n",
        "    for p in temp:\n",
        "        if p in province:\n",
        "            adress = p\n",
        "            return adress\n"
      ]
    },
    {
      "cell_type": "code",
      "execution_count": 10,
      "id": "e6760d9f",
      "metadata": {
        "colab": {
          "base_uri": "https://localhost:8080/"
        },
        "id": "e6760d9f",
        "outputId": "30cc5882-6894-4808-eb61-0055feb51466"
      },
      "outputs": [
        {
          "output_type": "execute_result",
          "data": {
            "text/plain": [
              "(2822, 66)"
            ]
          },
          "metadata": {},
          "execution_count": 10
        }
      ],
      "source": [
        "#Apply the above function and creating province column in the train data\n",
        "train['province'] = np.vectorize(add_variables)(train['address'])\n",
        "train.shape"
      ]
    },
    {
      "cell_type": "code",
      "execution_count": 11,
      "id": "40e355fb",
      "metadata": {
        "colab": {
          "base_uri": "https://localhost:8080/"
        },
        "id": "40e355fb",
        "outputId": "09e620bc-3552-4eb3-9c3d-f243f706c1d2"
      },
      "outputs": [
        {
          "output_type": "execute_result",
          "data": {
            "text/plain": [
              "(1013, 65)"
            ]
          },
          "metadata": {},
          "execution_count": 11
        }
      ],
      "source": [
        "#Apply the above function and creating province column in the test data\n",
        "test['province'] = np.vectorize(add_variables)(test['address'])\n",
        "test.shape"
      ]
    },
    {
      "cell_type": "code",
      "execution_count": 12,
      "id": "6d2815e2",
      "metadata": {
        "colab": {
          "base_uri": "https://localhost:8080/"
        },
        "id": "6d2815e2",
        "outputId": "0fceb9b6-3b2e-4fe0-8366-fc6974287faa"
      },
      "outputs": [
        {
          "output_type": "execute_result",
          "data": {
            "text/plain": [
              "KwaZulu-Natal    715\n",
              "Eastern Cape     626\n",
              "Gauteng          469\n",
              "Limpopo          453\n",
              "Western Cape     387\n",
              "Mpumalanga       356\n",
              "North West       345\n",
              "Free State       308\n",
              "Northern Cape    176\n",
              "Name: province, dtype: int64"
            ]
          },
          "metadata": {},
          "execution_count": 12
        }
      ],
      "source": [
        "data = train.append(test)\n",
        "data['province'].value_counts()"
      ]
    },
    {
      "cell_type": "code",
      "execution_count": 13,
      "id": "05e33923",
      "metadata": {
        "id": "05e33923"
      },
      "outputs": [],
      "source": [
        "## features transform\n",
        "\n",
        "def transform(data):\n",
        "    data['pw1'] = 1 - (data['pw_00'] + data['pw_06'])  # retaining only pw00,pw06 and summing the another piped water column \n",
        "    data['rich'] = (data['car_00']+data['lgt_00']+data['pw_00'])/3 #creating a rich column meaning having car,light and water inside ward\n",
        "    data['psa_car'] = data['psa_00']/(data['car_00'] + data['car_01'])\n",
        "    data['latlon'] = abs(data['lat']) + abs(data['lon'])"
      ]
    },
    {
      "cell_type": "code",
      "execution_count": 14,
      "id": "cf640961",
      "metadata": {
        "id": "cf640961"
      },
      "outputs": [],
      "source": [
        "## features removing\n",
        "## remove unuseful columns\n",
        "def remove(data):\n",
        "    data.drop(['total_individuals'],axis=1,inplace=True)\n",
        "    data.drop(['total_households'],axis=1,inplace=True)\n",
        "    data.drop(['address'],axis=1,inplace=True)\n",
        "    data.drop(['lgt_00'],axis=1,inplace=True)\n",
        "    data.drop(['psa_02','psa_03'],axis=1,inplace=True)\n",
        "    data.drop(['lan_02','lan_03','lan_04','lan_05','lan_08','lan_07'],axis=1,inplace=True)\n",
        "    data.drop(['dw_00','dw_02', 'dw_06'],axis=1,inplace=True)\n",
        "    data.drop(['pw_01','pw_02','pw_03','pw_04','pw_05','pw_07','pw_08'],axis=1,inplace=True)"
      ]
    },
    {
      "cell_type": "code",
      "execution_count": 15,
      "id": "6705182c",
      "metadata": {
        "id": "6705182c"
      },
      "outputs": [],
      "source": [
        "## remove data int typed except province\n",
        "\n",
        "def remove_(data):\n",
        "    for col in data.select_dtypes(int):\n",
        "        if col != 'province':\n",
        "            data.drop([col],axis=1,inplace=True)"
      ]
    },
    {
      "cell_type": "code",
      "execution_count": 16,
      "id": "ddf9dabb",
      "metadata": {
        "id": "ddf9dabb"
      },
      "outputs": [],
      "source": [
        "## encode the province column \n",
        "\n",
        "def encoder(data):\n",
        "    code = {\n",
        "        'KwaZulu-Natal':8,\n",
        "        'Eastern Cape':7,\n",
        "        'Gauteng':6,\n",
        "        'Limpopo':5,\n",
        "        'Western Cape':4,\n",
        "        'Mpumalanga':3,\n",
        "        'North West':2,\n",
        "        'Free State':1,\n",
        "        'Northern Cape':0\n",
        "    }\n",
        "    data.loc[:,'province'] = data['province'].map(code)\n",
        "    "
      ]
    },
    {
      "cell_type": "code",
      "execution_count": 17,
      "id": "efd74f2d",
      "metadata": {
        "id": "efd74f2d"
      },
      "outputs": [],
      "source": [
        "## define a processing function \n",
        "\n",
        "def preprocessing(data):\n",
        "    encoder(data)\n",
        "    transform(data)\n",
        "    remove(data)\n",
        "    remove_(data)  "
      ]
    },
    {
      "cell_type": "code",
      "execution_count": 18,
      "id": "1f708fae",
      "metadata": {
        "id": "1f708fae"
      },
      "outputs": [],
      "source": [
        "preprocessing(train)\n",
        "preprocessing(test)"
      ]
    },
    {
      "cell_type": "code",
      "execution_count": 19,
      "id": "17b86a77",
      "metadata": {
        "id": "17b86a77"
      },
      "outputs": [],
      "source": [
        "### preparing data for modelling"
      ]
    },
    {
      "cell_type": "code",
      "execution_count": 20,
      "id": "8cb6d361",
      "metadata": {
        "id": "8cb6d361"
      },
      "outputs": [],
      "source": [
        "cols = ['ward','ADM4_PCODE','target']"
      ]
    },
    {
      "cell_type": "code",
      "execution_count": 21,
      "id": "740f8964",
      "metadata": {
        "id": "740f8964"
      },
      "outputs": [],
      "source": [
        "in_cols = []\n",
        "for col in train.columns:\n",
        "    in_cols.append(col)\n",
        "for col in cols:\n",
        "    in_cols.remove(col)\n",
        "ycol = 'target'"
      ]
    },
    {
      "cell_type": "code",
      "execution_count": 22,
      "id": "0dada16b",
      "metadata": {
        "id": "0dada16b"
      },
      "outputs": [],
      "source": [
        "## getting X and y\n",
        "\n",
        "X = train.drop(labels=cols,axis=1)\n",
        "y = train['target']"
      ]
    },
    {
      "cell_type": "markdown",
      "id": "811973ec",
      "metadata": {
        "id": "811973ec"
      },
      "source": [
        "## Modelling"
      ]
    },
    {
      "cell_type": "code",
      "execution_count": 23,
      "id": "b8994181",
      "metadata": {
        "id": "b8994181"
      },
      "outputs": [],
      "source": [
        "from sklearn import linear_model\n",
        "from sklearn.neighbors import KNeighborsRegressor\n",
        "from lightgbm import LGBMRegressor\n",
        "from catboost import CatBoostRegressor\n",
        "from xgboost import XGBRegressor\n",
        "from sklearn.model_selection import KFold,train_test_split\n",
        "from sklearn.linear_model import LogisticRegression\n",
        "from sklearn.ensemble import RandomForestRegressor,GradientBoostingRegressor\n",
        "from sklearn.metrics import mean_squared_error\n",
        "from sklearn.model_selection import cross_val_score"
      ]
    },
    {
      "cell_type": "code",
      "execution_count": 24,
      "id": "13fb387b",
      "metadata": {
        "id": "13fb387b"
      },
      "outputs": [],
      "source": [
        "## function to fit , predict and submit the answers with catboost \n",
        "\n",
        "def submission(name,num,model):\n",
        "    errcb=[]\n",
        "    y_pred_totcb=[]\n",
        "    fold=KFold(n_splits=5,shuffle=True, random_state=1234)\n",
        "    for train_index, test_index in fold.split(X,y):\n",
        "        X_train, X_test = X.iloc[train_index], X.iloc[test_index]\n",
        "        y_train, y_test = y[train_index], y[test_index]\n",
        "        \n",
        "        model.fit(X_train,y_train,eval_set=[(X_train,y_train),(X_test, y_test)], early_stopping_rounds=100)\n",
        "        preds=model.predict(X_test)\n",
        "        print(\"err: \",np.sqrt(mean_squared_error(y_test,preds)))\n",
        "        errcb.append(np.sqrt(mean_squared_error(y_test,preds)))\n",
        "        p = model.predict(test[in_cols])\n",
        "        y_pred_totcb.append(p)\n",
        "    \n",
        "    print(\"Average score in 5-fold CV:\", np.mean(errcb))\n",
        "    test['target'] = np.mean(y_pred_totcb,0)\n",
        "    test[['ward', 'target']].to_csv(f\"{name}_sub{num}.csv\", index=False)"
      ]
    },
    {
      "cell_type": "code",
      "execution_count": 25,
      "id": "bb7e71d5",
      "metadata": {
        "id": "bb7e71d5"
      },
      "outputs": [],
      "source": [
        "## define the model to use\n",
        "model = CatBoostRegressor(loss_function='RMSE',depth= 6, metric_period=20)"
      ]
    },
    {
      "cell_type": "code",
      "execution_count": 26,
      "id": "33f9b532",
      "metadata": {
        "colab": {
          "base_uri": "https://localhost:8080/"
        },
        "id": "33f9b532",
        "outputId": "40c644af-67ae-4c8c-b81d-5b216f48b696"
      },
      "outputs": [
        {
          "output_type": "stream",
          "name": "stdout",
          "text": [
            "Learning rate set to 0.057863\n",
            "0:\tlearn: 9.8563277\ttest: 9.8563277\ttest1: 9.9254270\tbest: 9.9254270 (0)\ttotal: 59.6ms\tremaining: 59.6s\n"
          ]
        },
        {
          "output_type": "stream",
          "name": "stderr",
          "text": [
            "Warning: Overfitting detector is active, thus evaluation metric is calculated on every iteration. 'metric_period' is ignored for evaluation metric.\n"
          ]
        },
        {
          "output_type": "stream",
          "name": "stdout",
          "text": [
            "20:\tlearn: 5.1938293\ttest: 5.1938293\ttest1: 5.3419404\tbest: 5.3419404 (20)\ttotal: 289ms\tremaining: 13.5s\n",
            "40:\tlearn: 3.9411130\ttest: 3.9411130\ttest1: 4.1512472\tbest: 4.1512472 (40)\ttotal: 512ms\tremaining: 12s\n",
            "60:\tlearn: 3.5392569\ttest: 3.5392569\ttest1: 3.7750591\tbest: 3.7750591 (60)\ttotal: 737ms\tremaining: 11.3s\n",
            "80:\tlearn: 3.3331778\ttest: 3.3331778\ttest1: 3.6077995\tbest: 3.6077995 (80)\ttotal: 974ms\tremaining: 11s\n",
            "100:\tlearn: 3.1861317\ttest: 3.1861317\ttest1: 3.5288427\tbest: 3.5288427 (100)\ttotal: 1.22s\tremaining: 10.9s\n",
            "120:\tlearn: 3.0492721\ttest: 3.0492721\ttest1: 3.4670167\tbest: 3.4670167 (120)\ttotal: 1.46s\tremaining: 10.6s\n",
            "140:\tlearn: 2.9393384\ttest: 2.9393384\ttest1: 3.4149499\tbest: 3.4149499 (140)\ttotal: 1.7s\tremaining: 10.3s\n",
            "160:\tlearn: 2.8222386\ttest: 2.8222386\ttest1: 3.3735105\tbest: 3.3735105 (160)\ttotal: 1.95s\tremaining: 10.1s\n",
            "180:\tlearn: 2.7007990\ttest: 2.7007990\ttest1: 3.3329355\tbest: 3.3329355 (180)\ttotal: 2.2s\tremaining: 9.97s\n",
            "200:\tlearn: 2.5883292\ttest: 2.5883292\ttest1: 3.2914095\tbest: 3.2914095 (200)\ttotal: 2.44s\tremaining: 9.71s\n",
            "220:\tlearn: 2.4912751\ttest: 2.4912751\ttest1: 3.2648718\tbest: 3.2648718 (220)\ttotal: 2.69s\tremaining: 9.49s\n",
            "240:\tlearn: 2.3975288\ttest: 2.3975288\ttest1: 3.2456689\tbest: 3.2456689 (240)\ttotal: 2.95s\tremaining: 9.29s\n",
            "260:\tlearn: 2.3061939\ttest: 2.3061939\ttest1: 3.2205101\tbest: 3.2205101 (260)\ttotal: 3.21s\tremaining: 9.08s\n",
            "280:\tlearn: 2.2227839\ttest: 2.2227839\ttest1: 3.1921021\tbest: 3.1921021 (280)\ttotal: 3.45s\tremaining: 8.84s\n",
            "300:\tlearn: 2.1503903\ttest: 2.1503903\ttest1: 3.1788266\tbest: 3.1778837 (299)\ttotal: 3.69s\tremaining: 8.58s\n",
            "320:\tlearn: 2.0755015\ttest: 2.0755015\ttest1: 3.1681362\tbest: 3.1676371 (317)\ttotal: 3.94s\tremaining: 8.33s\n",
            "340:\tlearn: 2.0097210\ttest: 2.0097210\ttest1: 3.1604831\tbest: 3.1597303 (334)\ttotal: 4.19s\tremaining: 8.1s\n",
            "360:\tlearn: 1.9437831\ttest: 1.9437831\ttest1: 3.1543204\tbest: 3.1529940 (355)\ttotal: 4.43s\tremaining: 7.85s\n",
            "380:\tlearn: 1.8816179\ttest: 1.8816179\ttest1: 3.1400519\tbest: 3.1400519 (380)\ttotal: 4.68s\tremaining: 7.6s\n",
            "400:\tlearn: 1.8322784\ttest: 1.8322784\ttest1: 3.1345934\tbest: 3.1342440 (399)\ttotal: 4.92s\tremaining: 7.36s\n",
            "420:\tlearn: 1.7770185\ttest: 1.7770185\ttest1: 3.1245847\tbest: 3.1237953 (419)\ttotal: 5.21s\tremaining: 7.16s\n",
            "440:\tlearn: 1.7243167\ttest: 1.7243167\ttest1: 3.1189552\tbest: 3.1189552 (440)\ttotal: 5.46s\tremaining: 6.92s\n",
            "460:\tlearn: 1.6709579\ttest: 1.6709579\ttest1: 3.1079702\tbest: 3.1079702 (460)\ttotal: 5.7s\tremaining: 6.66s\n",
            "480:\tlearn: 1.6256841\ttest: 1.6256841\ttest1: 3.1046412\tbest: 3.1045826 (478)\ttotal: 5.95s\tremaining: 6.42s\n",
            "500:\tlearn: 1.5772948\ttest: 1.5772948\ttest1: 3.1001555\tbest: 3.0994474 (493)\ttotal: 6.37s\tremaining: 6.35s\n",
            "520:\tlearn: 1.5356937\ttest: 1.5356937\ttest1: 3.0988581\tbest: 3.0981666 (518)\ttotal: 6.93s\tremaining: 6.37s\n",
            "540:\tlearn: 1.4955023\ttest: 1.4955023\ttest1: 3.0983014\tbest: 3.0976105 (536)\ttotal: 7.51s\tremaining: 6.37s\n",
            "560:\tlearn: 1.4537826\ttest: 1.4537826\ttest1: 3.1002605\tbest: 3.0974385 (549)\ttotal: 8.09s\tremaining: 6.33s\n",
            "580:\tlearn: 1.4198066\ttest: 1.4198066\ttest1: 3.0954871\tbest: 3.0954871 (580)\ttotal: 8.55s\tremaining: 6.16s\n",
            "600:\tlearn: 1.3797435\ttest: 1.3797435\ttest1: 3.0944860\tbest: 3.0929302 (595)\ttotal: 9.1s\tremaining: 6.04s\n",
            "620:\tlearn: 1.3448516\ttest: 1.3448516\ttest1: 3.0909834\tbest: 3.0909834 (620)\ttotal: 9.68s\tremaining: 5.91s\n",
            "640:\tlearn: 1.3119813\ttest: 1.3119813\ttest1: 3.0890834\tbest: 3.0883584 (634)\ttotal: 10.3s\tremaining: 5.76s\n",
            "660:\tlearn: 1.2730672\ttest: 1.2730672\ttest1: 3.0875389\tbest: 3.0867171 (646)\ttotal: 10.8s\tremaining: 5.52s\n",
            "680:\tlearn: 1.2389284\ttest: 1.2389284\ttest1: 3.0814550\tbest: 3.0814550 (680)\ttotal: 11.3s\tremaining: 5.28s\n",
            "700:\tlearn: 1.2046617\ttest: 1.2046617\ttest1: 3.0787195\tbest: 3.0768220 (694)\ttotal: 11.7s\tremaining: 4.99s\n",
            "720:\tlearn: 1.1732859\ttest: 1.1732859\ttest1: 3.0791771\tbest: 3.0768220 (694)\ttotal: 11.9s\tremaining: 4.62s\n",
            "740:\tlearn: 1.1465510\ttest: 1.1465510\ttest1: 3.0775159\tbest: 3.0768220 (694)\ttotal: 12.2s\tremaining: 4.26s\n",
            "760:\tlearn: 1.1180981\ttest: 1.1180981\ttest1: 3.0759376\tbest: 3.0750656 (755)\ttotal: 12.4s\tremaining: 3.9s\n",
            "780:\tlearn: 1.0904445\ttest: 1.0904445\ttest1: 3.0752581\tbest: 3.0750656 (755)\ttotal: 12.7s\tremaining: 3.55s\n",
            "800:\tlearn: 1.0627332\ttest: 1.0627332\ttest1: 3.0735934\tbest: 3.0735934 (800)\ttotal: 12.9s\tremaining: 3.21s\n",
            "820:\tlearn: 1.0370491\ttest: 1.0370491\ttest1: 3.0726204\tbest: 3.0717757 (805)\ttotal: 13.2s\tremaining: 2.87s\n",
            "840:\tlearn: 1.0163727\ttest: 1.0163727\ttest1: 3.0725329\tbest: 3.0717757 (805)\ttotal: 13.4s\tremaining: 2.54s\n",
            "860:\tlearn: 0.9926391\ttest: 0.9926391\ttest1: 3.0705827\tbest: 3.0702585 (851)\ttotal: 13.7s\tremaining: 2.21s\n",
            "880:\tlearn: 0.9680061\ttest: 0.9680061\ttest1: 3.0695726\tbest: 3.0692741 (864)\ttotal: 13.9s\tremaining: 1.88s\n",
            "900:\tlearn: 0.9434525\ttest: 0.9434525\ttest1: 3.0701852\tbest: 3.0681887 (896)\ttotal: 14.2s\tremaining: 1.55s\n",
            "920:\tlearn: 0.9204898\ttest: 0.9204898\ttest1: 3.0697091\tbest: 3.0681887 (896)\ttotal: 14.4s\tremaining: 1.24s\n",
            "940:\tlearn: 0.8956528\ttest: 0.8956528\ttest1: 3.0684448\tbest: 3.0681086 (935)\ttotal: 14.6s\tremaining: 918ms\n",
            "960:\tlearn: 0.8738826\ttest: 0.8738826\ttest1: 3.0669492\tbest: 3.0668717 (959)\ttotal: 14.9s\tremaining: 604ms\n",
            "980:\tlearn: 0.8527702\ttest: 0.8527702\ttest1: 3.0678692\tbest: 3.0668717 (959)\ttotal: 15.1s\tremaining: 292ms\n",
            "999:\tlearn: 0.8361742\ttest: 0.8361742\ttest1: 3.0665961\tbest: 3.0662310 (995)\ttotal: 15.3s\tremaining: 0us\n",
            "\n",
            "bestTest = 3.066231027\n",
            "bestIteration = 995\n",
            "\n",
            "Shrink model to first 996 iterations.\n",
            "err:  3.0662310602674108\n",
            "Learning rate set to 0.057863\n",
            "0:\tlearn: 9.8822521\ttest: 9.8822521\ttest1: 9.8319729\tbest: 9.8319729 (0)\ttotal: 12.9ms\tremaining: 12.9s\n"
          ]
        },
        {
          "output_type": "stream",
          "name": "stderr",
          "text": [
            "Warning: Overfitting detector is active, thus evaluation metric is calculated on every iteration. 'metric_period' is ignored for evaluation metric.\n"
          ]
        },
        {
          "output_type": "stream",
          "name": "stdout",
          "text": [
            "20:\tlearn: 5.2024846\ttest: 5.2024846\ttest1: 5.2105942\tbest: 5.2105942 (20)\ttotal: 262ms\tremaining: 12.2s\n",
            "40:\tlearn: 3.9355900\ttest: 3.9355900\ttest1: 4.0444020\tbest: 4.0444020 (40)\ttotal: 493ms\tremaining: 11.5s\n",
            "60:\tlearn: 3.5396663\ttest: 3.5396663\ttest1: 3.7605436\tbest: 3.7605436 (60)\ttotal: 739ms\tremaining: 11.4s\n",
            "80:\tlearn: 3.3230408\ttest: 3.3230408\ttest1: 3.6334522\tbest: 3.6334522 (80)\ttotal: 991ms\tremaining: 11.2s\n",
            "100:\tlearn: 3.1640965\ttest: 3.1640965\ttest1: 3.5507671\tbest: 3.5507671 (100)\ttotal: 1.24s\tremaining: 11s\n",
            "120:\tlearn: 3.0397174\ttest: 3.0397174\ttest1: 3.4957256\tbest: 3.4957256 (120)\ttotal: 1.48s\tremaining: 10.8s\n",
            "140:\tlearn: 2.9215170\ttest: 2.9215170\ttest1: 3.4593906\tbest: 3.4593906 (140)\ttotal: 1.72s\tremaining: 10.5s\n",
            "160:\tlearn: 2.8020827\ttest: 2.8020827\ttest1: 3.4156653\tbest: 3.4156653 (160)\ttotal: 1.97s\tremaining: 10.3s\n",
            "180:\tlearn: 2.6961308\ttest: 2.6961308\ttest1: 3.3787320\tbest: 3.3787320 (180)\ttotal: 2.22s\tremaining: 10s\n",
            "200:\tlearn: 2.5957126\ttest: 2.5957126\ttest1: 3.3374524\tbest: 3.3374524 (200)\ttotal: 2.45s\tremaining: 9.74s\n",
            "220:\tlearn: 2.4976092\ttest: 2.4976092\ttest1: 3.3099723\tbest: 3.3099723 (220)\ttotal: 2.69s\tremaining: 9.49s\n",
            "240:\tlearn: 2.4054065\ttest: 2.4054065\ttest1: 3.2935375\tbest: 3.2932623 (237)\ttotal: 2.93s\tremaining: 9.24s\n",
            "260:\tlearn: 2.3206978\ttest: 2.3206978\ttest1: 3.2719914\tbest: 3.2719914 (260)\ttotal: 3.17s\tremaining: 8.99s\n",
            "280:\tlearn: 2.2472594\ttest: 2.2472594\ttest1: 3.2567549\tbest: 3.2567549 (280)\ttotal: 3.41s\tremaining: 8.72s\n",
            "300:\tlearn: 2.1704489\ttest: 2.1704489\ttest1: 3.2373832\tbest: 3.2371795 (299)\ttotal: 3.65s\tremaining: 8.49s\n",
            "320:\tlearn: 2.0918669\ttest: 2.0918669\ttest1: 3.2136709\tbest: 3.2136709 (320)\ttotal: 3.92s\tremaining: 8.29s\n",
            "340:\tlearn: 2.0198881\ttest: 2.0198881\ttest1: 3.2061272\tbest: 3.2055270 (339)\ttotal: 4.15s\tremaining: 8.03s\n",
            "360:\tlearn: 1.9566951\ttest: 1.9566951\ttest1: 3.1934546\tbest: 3.1934546 (360)\ttotal: 4.4s\tremaining: 7.79s\n",
            "380:\tlearn: 1.8974139\ttest: 1.8974139\ttest1: 3.1895730\tbest: 3.1895004 (379)\ttotal: 4.64s\tremaining: 7.54s\n",
            "400:\tlearn: 1.8331383\ttest: 1.8331383\ttest1: 3.1807511\tbest: 3.1807511 (400)\ttotal: 4.9s\tremaining: 7.32s\n",
            "420:\tlearn: 1.7767287\ttest: 1.7767287\ttest1: 3.1765711\tbest: 3.1765711 (420)\ttotal: 5.14s\tremaining: 7.07s\n",
            "440:\tlearn: 1.7230541\ttest: 1.7230541\ttest1: 3.1711794\tbest: 3.1706715 (439)\ttotal: 5.39s\tremaining: 6.83s\n",
            "460:\tlearn: 1.6678619\ttest: 1.6678619\ttest1: 3.1650801\tbest: 3.1649638 (457)\ttotal: 5.63s\tremaining: 6.58s\n",
            "480:\tlearn: 1.6140863\ttest: 1.6140863\ttest1: 3.1589402\tbest: 3.1589402 (480)\ttotal: 5.87s\tremaining: 6.33s\n",
            "500:\tlearn: 1.5680765\ttest: 1.5680765\ttest1: 3.1521403\tbest: 3.1521403 (500)\ttotal: 6.12s\tremaining: 6.09s\n",
            "520:\tlearn: 1.5215508\ttest: 1.5215508\ttest1: 3.1467680\tbest: 3.1458117 (519)\ttotal: 6.36s\tremaining: 5.84s\n",
            "540:\tlearn: 1.4832150\ttest: 1.4832150\ttest1: 3.1408965\tbest: 3.1408965 (540)\ttotal: 6.59s\tremaining: 5.59s\n",
            "560:\tlearn: 1.4426976\ttest: 1.4426976\ttest1: 3.1337279\tbest: 3.1337279 (560)\ttotal: 6.84s\tremaining: 5.35s\n",
            "580:\tlearn: 1.4041270\ttest: 1.4041270\ttest1: 3.1335659\tbest: 3.1320556 (565)\ttotal: 7.09s\tremaining: 5.11s\n",
            "600:\tlearn: 1.3690845\ttest: 1.3690845\ttest1: 3.1328899\tbest: 3.1320556 (565)\ttotal: 7.34s\tremaining: 4.87s\n",
            "620:\tlearn: 1.3336739\ttest: 1.3336739\ttest1: 3.1349221\tbest: 3.1320556 (565)\ttotal: 7.59s\tremaining: 4.63s\n",
            "640:\tlearn: 1.3032126\ttest: 1.3032126\ttest1: 3.1309775\tbest: 3.1309775 (640)\ttotal: 7.83s\tremaining: 4.39s\n",
            "660:\tlearn: 1.2728695\ttest: 1.2728695\ttest1: 3.1288928\tbest: 3.1288594 (659)\ttotal: 8.09s\tremaining: 4.15s\n",
            "680:\tlearn: 1.2390465\ttest: 1.2390465\ttest1: 3.1264932\tbest: 3.1264932 (680)\ttotal: 8.33s\tremaining: 3.9s\n",
            "700:\tlearn: 1.2093412\ttest: 1.2093412\ttest1: 3.1239384\tbest: 3.1228895 (699)\ttotal: 8.57s\tremaining: 3.66s\n",
            "720:\tlearn: 1.1790582\ttest: 1.1790582\ttest1: 3.1204514\tbest: 3.1204514 (720)\ttotal: 8.81s\tremaining: 3.41s\n",
            "740:\tlearn: 1.1471270\ttest: 1.1471270\ttest1: 3.1197193\tbest: 3.1193486 (734)\ttotal: 9.06s\tremaining: 3.17s\n",
            "760:\tlearn: 1.1209212\ttest: 1.1209212\ttest1: 3.1186349\tbest: 3.1181601 (751)\ttotal: 9.3s\tremaining: 2.92s\n",
            "780:\tlearn: 1.0921552\ttest: 1.0921552\ttest1: 3.1210537\tbest: 3.1181601 (751)\ttotal: 9.54s\tremaining: 2.67s\n",
            "800:\tlearn: 1.0677578\ttest: 1.0677578\ttest1: 3.1216189\tbest: 3.1181601 (751)\ttotal: 9.77s\tremaining: 2.43s\n",
            "820:\tlearn: 1.0401907\ttest: 1.0401907\ttest1: 3.1193206\tbest: 3.1181601 (751)\ttotal: 10s\tremaining: 2.18s\n",
            "840:\tlearn: 1.0150611\ttest: 1.0150611\ttest1: 3.1208179\tbest: 3.1181601 (751)\ttotal: 10.3s\tremaining: 1.94s\n",
            "Stopped by overfitting detector  (100 iterations wait)\n",
            "\n",
            "bestTest = 3.118160082\n",
            "bestIteration = 751\n",
            "\n",
            "Shrink model to first 752 iterations.\n",
            "err:  3.1181600340019795\n",
            "Learning rate set to 0.057867\n",
            "0:\tlearn: 10.0104330\ttest: 10.0104330\ttest1: 9.2799669\tbest: 9.2799669 (0)\ttotal: 26.4ms\tremaining: 26.4s\n"
          ]
        },
        {
          "output_type": "stream",
          "name": "stderr",
          "text": [
            "Warning: Overfitting detector is active, thus evaluation metric is calculated on every iteration. 'metric_period' is ignored for evaluation metric.\n"
          ]
        },
        {
          "output_type": "stream",
          "name": "stdout",
          "text": [
            "20:\tlearn: 5.2050436\ttest: 5.2050436\ttest1: 4.9954218\tbest: 4.9954218 (20)\ttotal: 287ms\tremaining: 13.4s\n",
            "40:\tlearn: 3.9267711\ttest: 3.9267711\ttest1: 4.0857327\tbest: 4.0857327 (40)\ttotal: 555ms\tremaining: 13s\n",
            "60:\tlearn: 3.4960248\ttest: 3.4960248\ttest1: 3.8417237\tbest: 3.8417237 (60)\ttotal: 798ms\tremaining: 12.3s\n",
            "80:\tlearn: 3.2845016\ttest: 3.2845016\ttest1: 3.7398957\tbest: 3.7398957 (80)\ttotal: 1.04s\tremaining: 11.9s\n",
            "100:\tlearn: 3.1360639\ttest: 3.1360639\ttest1: 3.6812406\tbest: 3.6812406 (100)\ttotal: 1.28s\tremaining: 11.4s\n",
            "120:\tlearn: 3.0106690\ttest: 3.0106690\ttest1: 3.6377172\tbest: 3.6377172 (120)\ttotal: 1.54s\tremaining: 11.2s\n",
            "140:\tlearn: 2.9031519\ttest: 2.9031519\ttest1: 3.6063746\tbest: 3.6045526 (139)\ttotal: 1.78s\tremaining: 10.9s\n",
            "160:\tlearn: 2.8056462\ttest: 2.8056462\ttest1: 3.5668074\tbest: 3.5668074 (160)\ttotal: 2.02s\tremaining: 10.5s\n",
            "180:\tlearn: 2.6882847\ttest: 2.6882847\ttest1: 3.5303978\tbest: 3.5303978 (180)\ttotal: 2.26s\tremaining: 10.2s\n",
            "200:\tlearn: 2.5696211\ttest: 2.5696211\ttest1: 3.4883877\tbest: 3.4883877 (200)\ttotal: 2.5s\tremaining: 9.95s\n",
            "220:\tlearn: 2.4834309\ttest: 2.4834309\ttest1: 3.4533126\tbest: 3.4533126 (220)\ttotal: 2.76s\tremaining: 9.72s\n",
            "240:\tlearn: 2.3996918\ttest: 2.3996918\ttest1: 3.4345572\tbest: 3.4331048 (239)\ttotal: 3s\tremaining: 9.45s\n",
            "260:\tlearn: 2.3190055\ttest: 2.3190055\ttest1: 3.4152167\tbest: 3.4152167 (260)\ttotal: 3.23s\tremaining: 9.15s\n",
            "280:\tlearn: 2.2404651\ttest: 2.2404651\ttest1: 3.3921413\tbest: 3.3921413 (280)\ttotal: 3.47s\tremaining: 8.88s\n",
            "300:\tlearn: 2.1645639\ttest: 2.1645639\ttest1: 3.3750933\tbest: 3.3750933 (300)\ttotal: 3.72s\tremaining: 8.64s\n",
            "320:\tlearn: 2.0987043\ttest: 2.0987043\ttest1: 3.3678195\tbest: 3.3678195 (320)\ttotal: 3.97s\tremaining: 8.4s\n",
            "340:\tlearn: 2.0310912\ttest: 2.0310912\ttest1: 3.3536662\tbest: 3.3531064 (339)\ttotal: 4.21s\tremaining: 8.14s\n",
            "360:\tlearn: 1.9666978\ttest: 1.9666978\ttest1: 3.3319004\tbest: 3.3319004 (360)\ttotal: 4.46s\tremaining: 7.89s\n",
            "380:\tlearn: 1.9105917\ttest: 1.9105917\ttest1: 3.3265339\tbest: 3.3265339 (380)\ttotal: 4.71s\tremaining: 7.66s\n",
            "400:\tlearn: 1.8536591\ttest: 1.8536591\ttest1: 3.3137603\tbest: 3.3137603 (400)\ttotal: 4.95s\tremaining: 7.4s\n",
            "420:\tlearn: 1.7984887\ttest: 1.7984887\ttest1: 3.3087172\tbest: 3.3070218 (418)\ttotal: 5.2s\tremaining: 7.15s\n",
            "440:\tlearn: 1.7472248\ttest: 1.7472248\ttest1: 3.3036408\tbest: 3.3035028 (439)\ttotal: 5.43s\tremaining: 6.89s\n",
            "460:\tlearn: 1.6922220\ttest: 1.6922220\ttest1: 3.2901890\tbest: 3.2901890 (460)\ttotal: 5.69s\tremaining: 6.66s\n",
            "480:\tlearn: 1.6498297\ttest: 1.6498297\ttest1: 3.2872940\tbest: 3.2865067 (476)\ttotal: 5.94s\tremaining: 6.41s\n",
            "500:\tlearn: 1.6047934\ttest: 1.6047934\ttest1: 3.2853689\tbest: 3.2848800 (490)\ttotal: 6.18s\tremaining: 6.16s\n",
            "520:\tlearn: 1.5557657\ttest: 1.5557657\ttest1: 3.2842125\tbest: 3.2830854 (518)\ttotal: 6.44s\tremaining: 5.92s\n",
            "540:\tlearn: 1.5090083\ttest: 1.5090083\ttest1: 3.2828962\tbest: 3.2827292 (537)\ttotal: 6.7s\tremaining: 5.68s\n",
            "560:\tlearn: 1.4668447\ttest: 1.4668447\ttest1: 3.2786172\tbest: 3.2782685 (559)\ttotal: 6.94s\tremaining: 5.43s\n",
            "580:\tlearn: 1.4251145\ttest: 1.4251145\ttest1: 3.2782237\tbest: 3.2780606 (564)\ttotal: 7.18s\tremaining: 5.18s\n",
            "600:\tlearn: 1.3850744\ttest: 1.3850744\ttest1: 3.2727958\tbest: 3.2727958 (600)\ttotal: 7.43s\tremaining: 4.93s\n",
            "620:\tlearn: 1.3490640\ttest: 1.3490640\ttest1: 3.2713739\tbest: 3.2694399 (614)\ttotal: 7.7s\tremaining: 4.7s\n",
            "640:\tlearn: 1.3141444\ttest: 1.3141444\ttest1: 3.2684964\tbest: 3.2679775 (633)\ttotal: 7.95s\tremaining: 4.45s\n",
            "660:\tlearn: 1.2796189\ttest: 1.2796189\ttest1: 3.2650777\tbest: 3.2650777 (660)\ttotal: 8.21s\tremaining: 4.21s\n",
            "680:\tlearn: 1.2463431\ttest: 1.2463431\ttest1: 3.2634823\tbest: 3.2618840 (673)\ttotal: 8.45s\tremaining: 3.96s\n",
            "700:\tlearn: 1.2149146\ttest: 1.2149146\ttest1: 3.2633198\tbest: 3.2618840 (673)\ttotal: 8.71s\tremaining: 3.71s\n",
            "720:\tlearn: 1.1876591\ttest: 1.1876591\ttest1: 3.2602395\tbest: 3.2602395 (720)\ttotal: 8.94s\tremaining: 3.46s\n",
            "740:\tlearn: 1.1559867\ttest: 1.1559867\ttest1: 3.2595614\tbest: 3.2581801 (736)\ttotal: 9.19s\tremaining: 3.21s\n",
            "760:\tlearn: 1.1272493\ttest: 1.1272493\ttest1: 3.2587770\tbest: 3.2581801 (736)\ttotal: 9.43s\tremaining: 2.96s\n",
            "780:\tlearn: 1.1016245\ttest: 1.1016245\ttest1: 3.2601338\tbest: 3.2581801 (736)\ttotal: 9.68s\tremaining: 2.71s\n",
            "800:\tlearn: 1.0756151\ttest: 1.0756151\ttest1: 3.2568803\tbest: 3.2568252 (799)\ttotal: 9.93s\tremaining: 2.47s\n",
            "820:\tlearn: 1.0485887\ttest: 1.0485887\ttest1: 3.2540606\tbest: 3.2537773 (818)\ttotal: 10.2s\tremaining: 2.22s\n",
            "840:\tlearn: 1.0203940\ttest: 1.0203940\ttest1: 3.2536246\tbest: 3.2522132 (836)\ttotal: 10.4s\tremaining: 1.97s\n",
            "860:\tlearn: 0.9960315\ttest: 0.9960315\ttest1: 3.2542120\tbest: 3.2522132 (836)\ttotal: 10.7s\tremaining: 1.73s\n",
            "880:\tlearn: 0.9743435\ttest: 0.9743435\ttest1: 3.2529135\tbest: 3.2522132 (836)\ttotal: 10.9s\tremaining: 1.48s\n",
            "900:\tlearn: 0.9489801\ttest: 0.9489801\ttest1: 3.2495292\tbest: 3.2495292 (900)\ttotal: 11.2s\tremaining: 1.23s\n",
            "920:\tlearn: 0.9250086\ttest: 0.9250086\ttest1: 3.2483542\tbest: 3.2481492 (913)\ttotal: 11.4s\tremaining: 980ms\n",
            "940:\tlearn: 0.9033644\ttest: 0.9033644\ttest1: 3.2501546\tbest: 3.2481492 (913)\ttotal: 11.7s\tremaining: 733ms\n",
            "960:\tlearn: 0.8818780\ttest: 0.8818780\ttest1: 3.2496546\tbest: 3.2481492 (913)\ttotal: 11.9s\tremaining: 484ms\n",
            "980:\tlearn: 0.8643327\ttest: 0.8643327\ttest1: 3.2499798\tbest: 3.2481492 (913)\ttotal: 12.2s\tremaining: 236ms\n",
            "999:\tlearn: 0.8462746\ttest: 0.8462746\ttest1: 3.2500370\tbest: 3.2481492 (913)\ttotal: 12.4s\tremaining: 0us\n",
            "\n",
            "bestTest = 3.248149209\n",
            "bestIteration = 913\n",
            "\n",
            "Shrink model to first 914 iterations.\n",
            "err:  3.248149190021915\n",
            "Learning rate set to 0.057867\n",
            "0:\tlearn: 9.7626804\ttest: 9.7626804\ttest1: 10.3091347\tbest: 10.3091347 (0)\ttotal: 11.4ms\tremaining: 11.4s\n"
          ]
        },
        {
          "output_type": "stream",
          "name": "stderr",
          "text": [
            "Warning: Overfitting detector is active, thus evaluation metric is calculated on every iteration. 'metric_period' is ignored for evaluation metric.\n"
          ]
        },
        {
          "output_type": "stream",
          "name": "stdout",
          "text": [
            "20:\tlearn: 5.1390422\ttest: 5.1390422\ttest1: 5.5834936\tbest: 5.5834936 (20)\ttotal: 247ms\tremaining: 11.5s\n",
            "40:\tlearn: 3.9083558\ttest: 3.9083558\ttest1: 4.2791114\tbest: 4.2791114 (40)\ttotal: 474ms\tremaining: 11.1s\n",
            "60:\tlearn: 3.5173778\ttest: 3.5173778\ttest1: 3.8977534\tbest: 3.8977534 (60)\ttotal: 689ms\tremaining: 10.6s\n",
            "80:\tlearn: 3.3037042\ttest: 3.3037042\ttest1: 3.7230522\tbest: 3.7230522 (80)\ttotal: 906ms\tremaining: 10.3s\n",
            "100:\tlearn: 3.1419284\ttest: 3.1419284\ttest1: 3.6226548\tbest: 3.6226548 (100)\ttotal: 1.15s\tremaining: 10.2s\n",
            "120:\tlearn: 3.0201356\ttest: 3.0201356\ttest1: 3.5697019\tbest: 3.5697019 (120)\ttotal: 1.4s\tremaining: 10.2s\n",
            "140:\tlearn: 2.8980258\ttest: 2.8980258\ttest1: 3.5119852\tbest: 3.5119852 (140)\ttotal: 1.64s\tremaining: 9.99s\n",
            "160:\tlearn: 2.7796087\ttest: 2.7796087\ttest1: 3.4573928\tbest: 3.4573928 (160)\ttotal: 1.87s\tremaining: 9.73s\n",
            "180:\tlearn: 2.6737835\ttest: 2.6737835\ttest1: 3.4250067\tbest: 3.4222769 (179)\ttotal: 2.11s\tremaining: 9.53s\n",
            "200:\tlearn: 2.5687932\ttest: 2.5687932\ttest1: 3.3888509\tbest: 3.3888509 (200)\ttotal: 2.36s\tremaining: 9.38s\n",
            "220:\tlearn: 2.4605161\ttest: 2.4605161\ttest1: 3.3536278\tbest: 3.3536278 (220)\ttotal: 2.61s\tremaining: 9.19s\n",
            "240:\tlearn: 2.3730500\ttest: 2.3730500\ttest1: 3.3293440\tbest: 3.3293440 (240)\ttotal: 2.84s\tremaining: 8.95s\n",
            "260:\tlearn: 2.2853264\ttest: 2.2853264\ttest1: 3.3095767\tbest: 3.3095767 (260)\ttotal: 3.08s\tremaining: 8.73s\n",
            "280:\tlearn: 2.2051146\ttest: 2.2051146\ttest1: 3.2977697\tbest: 3.2975545 (278)\ttotal: 3.32s\tremaining: 8.51s\n",
            "300:\tlearn: 2.1301809\ttest: 2.1301809\ttest1: 3.2849663\tbest: 3.2844381 (296)\ttotal: 3.56s\tremaining: 8.27s\n",
            "320:\tlearn: 2.0582368\ttest: 2.0582368\ttest1: 3.2624180\tbest: 3.2619512 (319)\ttotal: 3.8s\tremaining: 8.03s\n",
            "340:\tlearn: 1.9915652\ttest: 1.9915652\ttest1: 3.2528965\tbest: 3.2528965 (340)\ttotal: 4.04s\tremaining: 7.81s\n",
            "360:\tlearn: 1.9256597\ttest: 1.9256597\ttest1: 3.2444196\tbest: 3.2442360 (357)\ttotal: 4.29s\tremaining: 7.6s\n",
            "380:\tlearn: 1.8671619\ttest: 1.8671619\ttest1: 3.2360234\tbest: 3.2338969 (377)\ttotal: 4.54s\tremaining: 7.37s\n",
            "400:\tlearn: 1.8107492\ttest: 1.8107492\ttest1: 3.2298658\tbest: 3.2298658 (400)\ttotal: 4.79s\tremaining: 7.16s\n",
            "420:\tlearn: 1.7581708\ttest: 1.7581708\ttest1: 3.2188316\tbest: 3.2188316 (420)\ttotal: 5.03s\tremaining: 6.92s\n",
            "440:\tlearn: 1.7006216\ttest: 1.7006216\ttest1: 3.2111948\tbest: 3.2111948 (440)\ttotal: 5.29s\tremaining: 6.71s\n",
            "460:\tlearn: 1.6515511\ttest: 1.6515511\ttest1: 3.2020700\tbest: 3.2020700 (460)\ttotal: 5.54s\tremaining: 6.47s\n",
            "480:\tlearn: 1.6056628\ttest: 1.6056628\ttest1: 3.1934480\tbest: 3.1934480 (480)\ttotal: 5.77s\tremaining: 6.22s\n",
            "500:\tlearn: 1.5575396\ttest: 1.5575396\ttest1: 3.1892835\tbest: 3.1886822 (496)\ttotal: 6.01s\tremaining: 5.99s\n",
            "520:\tlearn: 1.5115318\ttest: 1.5115318\ttest1: 3.1852337\tbest: 3.1843717 (512)\ttotal: 6.26s\tremaining: 5.75s\n",
            "540:\tlearn: 1.4682418\ttest: 1.4682418\ttest1: 3.1848135\tbest: 3.1841705 (536)\ttotal: 6.51s\tremaining: 5.53s\n",
            "560:\tlearn: 1.4290883\ttest: 1.4290883\ttest1: 3.1837973\tbest: 3.1828564 (556)\ttotal: 6.76s\tremaining: 5.29s\n",
            "580:\tlearn: 1.3891296\ttest: 1.3891296\ttest1: 3.1828083\tbest: 3.1822122 (563)\ttotal: 6.99s\tremaining: 5.04s\n",
            "600:\tlearn: 1.3576652\ttest: 1.3576652\ttest1: 3.1813541\tbest: 3.1813541 (600)\ttotal: 7.24s\tremaining: 4.8s\n",
            "620:\tlearn: 1.3277956\ttest: 1.3277956\ttest1: 3.1800382\tbest: 3.1792285 (615)\ttotal: 7.48s\tremaining: 4.56s\n",
            "640:\tlearn: 1.2981592\ttest: 1.2981592\ttest1: 3.1802193\tbest: 3.1786756 (632)\ttotal: 7.72s\tremaining: 4.33s\n",
            "660:\tlearn: 1.2648150\ttest: 1.2648150\ttest1: 3.1804048\tbest: 3.1786756 (632)\ttotal: 7.96s\tremaining: 4.08s\n",
            "680:\tlearn: 1.2298108\ttest: 1.2298108\ttest1: 3.1757964\tbest: 3.1757964 (680)\ttotal: 8.23s\tremaining: 3.85s\n",
            "700:\tlearn: 1.1963697\ttest: 1.1963697\ttest1: 3.1726002\tbest: 3.1720440 (699)\ttotal: 8.48s\tremaining: 3.62s\n",
            "720:\tlearn: 1.1678138\ttest: 1.1678138\ttest1: 3.1704297\tbest: 3.1703383 (716)\ttotal: 8.72s\tremaining: 3.37s\n",
            "740:\tlearn: 1.1402228\ttest: 1.1402228\ttest1: 3.1699568\tbest: 3.1694092 (736)\ttotal: 8.96s\tremaining: 3.13s\n",
            "760:\tlearn: 1.1094331\ttest: 1.1094331\ttest1: 3.1673219\tbest: 3.1669499 (759)\ttotal: 9.2s\tremaining: 2.89s\n",
            "780:\tlearn: 1.0795699\ttest: 1.0795699\ttest1: 3.1668151\tbest: 3.1646447 (769)\ttotal: 9.46s\tremaining: 2.65s\n",
            "800:\tlearn: 1.0501920\ttest: 1.0501920\ttest1: 3.1651734\tbest: 3.1643952 (794)\ttotal: 9.7s\tremaining: 2.41s\n",
            "820:\tlearn: 1.0246350\ttest: 1.0246350\ttest1: 3.1638820\tbest: 3.1626868 (814)\ttotal: 9.95s\tremaining: 2.17s\n",
            "840:\tlearn: 0.9967908\ttest: 0.9967908\ttest1: 3.1652967\tbest: 3.1626868 (814)\ttotal: 10.2s\tremaining: 1.93s\n",
            "860:\tlearn: 0.9733119\ttest: 0.9733119\ttest1: 3.1650570\tbest: 3.1626868 (814)\ttotal: 10.5s\tremaining: 1.69s\n",
            "880:\tlearn: 0.9494199\ttest: 0.9494199\ttest1: 3.1649430\tbest: 3.1626868 (814)\ttotal: 10.7s\tremaining: 1.45s\n",
            "900:\tlearn: 0.9290823\ttest: 0.9290823\ttest1: 3.1656327\tbest: 3.1626868 (814)\ttotal: 10.9s\tremaining: 1.2s\n",
            "Stopped by overfitting detector  (100 iterations wait)\n",
            "\n",
            "bestTest = 3.162686751\n",
            "bestIteration = 814\n",
            "\n",
            "Shrink model to first 815 iterations.\n",
            "err:  3.1626867825214995\n",
            "Learning rate set to 0.057867\n",
            "0:\tlearn: 9.8359458\ttest: 9.8359458\ttest1: 9.9996353\tbest: 9.9996353 (0)\ttotal: 11.2ms\tremaining: 11.2s\n"
          ]
        },
        {
          "output_type": "stream",
          "name": "stderr",
          "text": [
            "Warning: Overfitting detector is active, thus evaluation metric is calculated on every iteration. 'metric_period' is ignored for evaluation metric.\n"
          ]
        },
        {
          "output_type": "stream",
          "name": "stdout",
          "text": [
            "20:\tlearn: 5.1587391\ttest: 5.1587391\ttest1: 5.2583327\tbest: 5.2583327 (20)\ttotal: 244ms\tremaining: 11.4s\n",
            "40:\tlearn: 3.9100940\ttest: 3.9100940\ttest1: 4.0725805\tbest: 4.0725805 (40)\ttotal: 456ms\tremaining: 10.7s\n",
            "60:\tlearn: 3.4924024\ttest: 3.4924024\ttest1: 3.7661564\tbest: 3.7661564 (60)\ttotal: 671ms\tremaining: 10.3s\n",
            "80:\tlearn: 3.2716895\ttest: 3.2716895\ttest1: 3.6517013\tbest: 3.6517013 (80)\ttotal: 888ms\tremaining: 10.1s\n",
            "100:\tlearn: 3.1301418\ttest: 3.1301418\ttest1: 3.5852267\tbest: 3.5852267 (100)\ttotal: 1.13s\tremaining: 10.1s\n",
            "120:\tlearn: 3.0042387\ttest: 3.0042387\ttest1: 3.5336790\tbest: 3.5336790 (120)\ttotal: 1.38s\tremaining: 10s\n",
            "140:\tlearn: 2.8954298\ttest: 2.8954298\ttest1: 3.4898725\tbest: 3.4898725 (140)\ttotal: 1.63s\tremaining: 9.91s\n",
            "160:\tlearn: 2.7892354\ttest: 2.7892354\ttest1: 3.4544884\tbest: 3.4544884 (160)\ttotal: 1.87s\tremaining: 9.74s\n",
            "180:\tlearn: 2.6847128\ttest: 2.6847128\ttest1: 3.4072370\tbest: 3.4072370 (180)\ttotal: 2.1s\tremaining: 9.53s\n",
            "200:\tlearn: 2.5818088\ttest: 2.5818088\ttest1: 3.3626494\tbest: 3.3626494 (200)\ttotal: 2.36s\tremaining: 9.4s\n",
            "220:\tlearn: 2.4823801\ttest: 2.4823801\ttest1: 3.3311318\tbest: 3.3311318 (220)\ttotal: 2.61s\tremaining: 9.19s\n",
            "240:\tlearn: 2.3856100\ttest: 2.3856100\ttest1: 3.3094494\tbest: 3.3094494 (240)\ttotal: 2.85s\tremaining: 8.98s\n",
            "260:\tlearn: 2.2997266\ttest: 2.2997266\ttest1: 3.2912649\tbest: 3.2912649 (260)\ttotal: 3.09s\tremaining: 8.75s\n",
            "280:\tlearn: 2.2187022\ttest: 2.2187022\ttest1: 3.2779672\tbest: 3.2779672 (280)\ttotal: 3.36s\tremaining: 8.6s\n",
            "300:\tlearn: 2.1382369\ttest: 2.1382369\ttest1: 3.2614967\tbest: 3.2614967 (300)\ttotal: 3.6s\tremaining: 8.36s\n",
            "320:\tlearn: 2.0733515\ttest: 2.0733515\ttest1: 3.2425912\tbest: 3.2425912 (320)\ttotal: 3.84s\tremaining: 8.13s\n",
            "340:\tlearn: 2.0061297\ttest: 2.0061297\ttest1: 3.2317808\tbest: 3.2317808 (340)\ttotal: 4.09s\tremaining: 7.9s\n",
            "360:\tlearn: 1.9413304\ttest: 1.9413304\ttest1: 3.2142026\tbest: 3.2142026 (360)\ttotal: 4.35s\tremaining: 7.7s\n",
            "380:\tlearn: 1.8770974\ttest: 1.8770974\ttest1: 3.1964429\tbest: 3.1962835 (379)\ttotal: 4.59s\tremaining: 7.46s\n",
            "400:\tlearn: 1.8227403\ttest: 1.8227403\ttest1: 3.1878065\tbest: 3.1878065 (400)\ttotal: 4.83s\tremaining: 7.22s\n",
            "420:\tlearn: 1.7665688\ttest: 1.7665688\ttest1: 3.1795657\tbest: 3.1795657 (420)\ttotal: 5.07s\tremaining: 6.97s\n",
            "440:\tlearn: 1.7194277\ttest: 1.7194277\ttest1: 3.1750279\tbest: 3.1750279 (440)\ttotal: 5.33s\tremaining: 6.75s\n",
            "460:\tlearn: 1.6714589\ttest: 1.6714589\ttest1: 3.1699023\tbest: 3.1699023 (460)\ttotal: 5.58s\tremaining: 6.52s\n",
            "480:\tlearn: 1.6278441\ttest: 1.6278441\ttest1: 3.1632882\tbest: 3.1632882 (480)\ttotal: 5.82s\tremaining: 6.28s\n",
            "500:\tlearn: 1.5835930\ttest: 1.5835930\ttest1: 3.1559930\tbest: 3.1559930 (500)\ttotal: 6.06s\tremaining: 6.04s\n",
            "520:\tlearn: 1.5435960\ttest: 1.5435960\ttest1: 3.1524618\tbest: 3.1511790 (513)\ttotal: 6.32s\tremaining: 5.81s\n",
            "540:\tlearn: 1.5040445\ttest: 1.5040445\ttest1: 3.1489466\tbest: 3.1477507 (535)\ttotal: 6.58s\tremaining: 5.58s\n",
            "560:\tlearn: 1.4627705\ttest: 1.4627705\ttest1: 3.1475903\tbest: 3.1470452 (552)\ttotal: 6.83s\tremaining: 5.35s\n",
            "580:\tlearn: 1.4212164\ttest: 1.4212164\ttest1: 3.1443411\tbest: 3.1443411 (580)\ttotal: 7.08s\tremaining: 5.1s\n",
            "600:\tlearn: 1.3862139\ttest: 1.3862139\ttest1: 3.1432321\tbest: 3.1423393 (598)\ttotal: 7.33s\tremaining: 4.87s\n",
            "620:\tlearn: 1.3519152\ttest: 1.3519152\ttest1: 3.1437158\tbest: 3.1423393 (598)\ttotal: 7.6s\tremaining: 4.64s\n",
            "640:\tlearn: 1.3167184\ttest: 1.3167184\ttest1: 3.1389902\tbest: 3.1386803 (639)\ttotal: 7.84s\tremaining: 4.39s\n",
            "660:\tlearn: 1.2813944\ttest: 1.2813944\ttest1: 3.1407864\tbest: 3.1386803 (639)\ttotal: 8.08s\tremaining: 4.14s\n",
            "680:\tlearn: 1.2498112\ttest: 1.2498112\ttest1: 3.1390022\tbest: 3.1384735 (679)\ttotal: 8.33s\tremaining: 3.9s\n",
            "700:\tlearn: 1.2149608\ttest: 1.2149608\ttest1: 3.1377251\tbest: 3.1374877 (691)\ttotal: 8.57s\tremaining: 3.65s\n",
            "720:\tlearn: 1.1839432\ttest: 1.1839432\ttest1: 3.1346479\tbest: 3.1342157 (719)\ttotal: 8.8s\tremaining: 3.41s\n",
            "740:\tlearn: 1.1533084\ttest: 1.1533084\ttest1: 3.1311151\tbest: 3.1311151 (740)\ttotal: 9.04s\tremaining: 3.16s\n",
            "760:\tlearn: 1.1187122\ttest: 1.1187122\ttest1: 3.1310640\tbest: 3.1293945 (755)\ttotal: 9.3s\tremaining: 2.92s\n",
            "780:\tlearn: 1.0893846\ttest: 1.0893846\ttest1: 3.1287918\tbest: 3.1287918 (780)\ttotal: 9.54s\tremaining: 2.67s\n",
            "800:\tlearn: 1.0570181\ttest: 1.0570181\ttest1: 3.1251477\tbest: 3.1251477 (800)\ttotal: 9.78s\tremaining: 2.43s\n",
            "820:\tlearn: 1.0309370\ttest: 1.0309370\ttest1: 3.1240361\tbest: 3.1232226 (813)\ttotal: 10s\tremaining: 2.19s\n",
            "840:\tlearn: 1.0016924\ttest: 1.0016924\ttest1: 3.1195589\tbest: 3.1195589 (840)\ttotal: 10.3s\tremaining: 1.94s\n",
            "860:\tlearn: 0.9755021\ttest: 0.9755021\ttest1: 3.1176354\tbest: 3.1176354 (860)\ttotal: 10.5s\tremaining: 1.7s\n",
            "880:\tlearn: 0.9508796\ttest: 0.9508796\ttest1: 3.1194727\tbest: 3.1167992 (869)\ttotal: 10.8s\tremaining: 1.45s\n",
            "900:\tlearn: 0.9300564\ttest: 0.9300564\ttest1: 3.1182663\tbest: 3.1167992 (869)\ttotal: 11s\tremaining: 1.21s\n",
            "920:\tlearn: 0.9071250\ttest: 0.9071250\ttest1: 3.1168338\tbest: 3.1167992 (869)\ttotal: 11.2s\tremaining: 965ms\n",
            "940:\tlearn: 0.8836796\ttest: 0.8836796\ttest1: 3.1163079\tbest: 3.1161500 (929)\ttotal: 11.5s\tremaining: 721ms\n",
            "960:\tlearn: 0.8616349\ttest: 0.8616349\ttest1: 3.1144236\tbest: 3.1144236 (960)\ttotal: 11.7s\tremaining: 476ms\n",
            "980:\tlearn: 0.8429385\ttest: 0.8429385\ttest1: 3.1150258\tbest: 3.1136042 (970)\ttotal: 12s\tremaining: 232ms\n",
            "999:\tlearn: 0.8244556\ttest: 0.8244556\ttest1: 3.1161726\tbest: 3.1136042 (970)\ttotal: 12.2s\tremaining: 0us\n",
            "\n",
            "bestTest = 3.113604234\n",
            "bestIteration = 970\n",
            "\n",
            "Shrink model to first 971 iterations.\n",
            "err:  3.113604181792367\n",
            "Average score in 5-fold CV: 3.141766249721034\n"
          ]
        }
      ],
      "source": [
        "#submit using the submission function\n",
        "submission('Catboost2',19,model)"
      ]
    }
  ],
  "metadata": {
    "kernelspec": {
      "display_name": "Python 3",
      "language": "python",
      "name": "python3"
    },
    "language_info": {
      "codemirror_mode": {
        "name": "ipython",
        "version": 3
      },
      "file_extension": ".py",
      "mimetype": "text/x-python",
      "name": "python",
      "nbconvert_exporter": "python",
      "pygments_lexer": "ipython3",
      "version": "3.8.8"
    },
    "colab": {
      "name": "Trail_features_eng&model.ipynb",
      "provenance": []
    }
  },
  "nbformat": 4,
  "nbformat_minor": 5
}